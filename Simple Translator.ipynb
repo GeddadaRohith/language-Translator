{
 "cells": [
  {
   "cell_type": "code",
   "execution_count": 2,
   "id": "bbb5f57f-021b-4bc4-b3da-4366a1979f07",
   "metadata": {},
   "outputs": [
    {
     "name": "stdout",
     "output_type": "stream",
     "text": [
      "Collecting googletrans==4.0.0-rc1\n",
      "  Downloading googletrans-4.0.0rc1.tar.gz (20 kB)\n",
      "  Preparing metadata (setup.py): started\n",
      "  Preparing metadata (setup.py): finished with status 'done'\n",
      "Collecting httpx==0.13.3 (from googletrans==4.0.0-rc1)\n",
      "  Downloading httpx-0.13.3-py3-none-any.whl.metadata (25 kB)\n",
      "Requirement already satisfied: certifi in c:\\users\\rohit\\anaconda3\\lib\\site-packages (from httpx==0.13.3->googletrans==4.0.0-rc1) (2024.8.30)\n",
      "Collecting hstspreload (from httpx==0.13.3->googletrans==4.0.0-rc1)\n",
      "  Downloading hstspreload-2025.1.1-py3-none-any.whl.metadata (2.1 kB)\n",
      "Requirement already satisfied: sniffio in c:\\users\\rohit\\anaconda3\\lib\\site-packages (from httpx==0.13.3->googletrans==4.0.0-rc1) (1.3.0)\n",
      "Collecting chardet==3.* (from httpx==0.13.3->googletrans==4.0.0-rc1)\n",
      "  Downloading chardet-3.0.4-py2.py3-none-any.whl.metadata (3.2 kB)\n",
      "Collecting idna==2.* (from httpx==0.13.3->googletrans==4.0.0-rc1)\n",
      "  Downloading idna-2.10-py2.py3-none-any.whl.metadata (9.1 kB)\n",
      "Collecting rfc3986<2,>=1.3 (from httpx==0.13.3->googletrans==4.0.0-rc1)\n",
      "  Downloading rfc3986-1.5.0-py2.py3-none-any.whl.metadata (6.5 kB)\n",
      "Collecting httpcore==0.9.* (from httpx==0.13.3->googletrans==4.0.0-rc1)\n",
      "  Downloading httpcore-0.9.1-py3-none-any.whl.metadata (4.6 kB)\n",
      "Collecting h11<0.10,>=0.8 (from httpcore==0.9.*->httpx==0.13.3->googletrans==4.0.0-rc1)\n",
      "  Downloading h11-0.9.0-py2.py3-none-any.whl.metadata (8.1 kB)\n",
      "Collecting h2==3.* (from httpcore==0.9.*->httpx==0.13.3->googletrans==4.0.0-rc1)\n",
      "  Downloading h2-3.2.0-py2.py3-none-any.whl.metadata (32 kB)\n",
      "Collecting hyperframe<6,>=5.2.0 (from h2==3.*->httpcore==0.9.*->httpx==0.13.3->googletrans==4.0.0-rc1)\n",
      "  Downloading hyperframe-5.2.0-py2.py3-none-any.whl.metadata (7.2 kB)\n",
      "Collecting hpack<4,>=3.0 (from h2==3.*->httpcore==0.9.*->httpx==0.13.3->googletrans==4.0.0-rc1)\n",
      "  Downloading hpack-3.0.0-py2.py3-none-any.whl.metadata (7.0 kB)\n",
      "Downloading httpx-0.13.3-py3-none-any.whl (55 kB)\n",
      "Downloading chardet-3.0.4-py2.py3-none-any.whl (133 kB)\n",
      "Downloading httpcore-0.9.1-py3-none-any.whl (42 kB)\n",
      "Downloading idna-2.10-py2.py3-none-any.whl (58 kB)\n",
      "Downloading h2-3.2.0-py2.py3-none-any.whl (65 kB)\n",
      "Downloading rfc3986-1.5.0-py2.py3-none-any.whl (31 kB)\n",
      "Downloading hstspreload-2025.1.1-py3-none-any.whl (1.3 MB)\n",
      "   ---------------------------------------- 0.0/1.3 MB ? eta -:--:--\n",
      "   ---------------------------------------- 0.0/1.3 MB ? eta -:--:--\n",
      "   ---------------------------------------- 0.0/1.3 MB ? eta -:--:--\n",
      "   ---------------------------------------- 0.0/1.3 MB ? eta -:--:--\n",
      "   ---------------------------------------- 0.0/1.3 MB ? eta -:--:--\n",
      "   ---------------------------------------- 0.0/1.3 MB ? eta -:--:--\n",
      "   ---------------------------------------- 0.0/1.3 MB ? eta -:--:--\n",
      "   -------- ------------------------------- 0.3/1.3 MB ? eta -:--:--\n",
      "   -------- ------------------------------- 0.3/1.3 MB ? eta -:--:--\n",
      "   -------- ------------------------------- 0.3/1.3 MB ? eta -:--:--\n",
      "   -------- ------------------------------- 0.3/1.3 MB ? eta -:--:--\n",
      "   -------- ------------------------------- 0.3/1.3 MB ? eta -:--:--\n",
      "   -------- ------------------------------- 0.3/1.3 MB ? eta -:--:--\n",
      "   -------- ------------------------------- 0.3/1.3 MB ? eta -:--:--\n",
      "   -------- ------------------------------- 0.3/1.3 MB ? eta -:--:--\n",
      "   -------- ------------------------------- 0.3/1.3 MB ? eta -:--:--\n",
      "   -------- ------------------------------- 0.3/1.3 MB ? eta -:--:--\n",
      "   -------- ------------------------------- 0.3/1.3 MB ? eta -:--:--\n",
      "   -------- ------------------------------- 0.3/1.3 MB ? eta -:--:--\n",
      "   -------- ------------------------------- 0.3/1.3 MB ? eta -:--:--\n",
      "   -------- ------------------------------- 0.3/1.3 MB ? eta -:--:--\n",
      "   -------- ------------------------------- 0.3/1.3 MB ? eta -:--:--\n",
      "   -------- ------------------------------- 0.3/1.3 MB ? eta -:--:--\n",
      "   -------- ------------------------------- 0.3/1.3 MB ? eta -:--:--\n",
      "   -------- ------------------------------- 0.3/1.3 MB ? eta -:--:--\n",
      "   -------- ------------------------------- 0.3/1.3 MB ? eta -:--:--\n",
      "   -------- ------------------------------- 0.3/1.3 MB ? eta -:--:--\n",
      "   ---------------- ----------------------- 0.5/1.3 MB 61.2 kB/s eta 0:00:13\n",
      "   ---------------- ----------------------- 0.5/1.3 MB 61.2 kB/s eta 0:00:13\n",
      "   ---------------- ----------------------- 0.5/1.3 MB 61.2 kB/s eta 0:00:13\n",
      "   ---------------- ----------------------- 0.5/1.3 MB 61.2 kB/s eta 0:00:13\n",
      "   ---------------- ----------------------- 0.5/1.3 MB 61.2 kB/s eta 0:00:13\n",
      "   ---------------- ----------------------- 0.5/1.3 MB 61.2 kB/s eta 0:00:13\n",
      "   ---------------- ----------------------- 0.5/1.3 MB 61.2 kB/s eta 0:00:13\n",
      "   ---------------- ----------------------- 0.5/1.3 MB 61.2 kB/s eta 0:00:13\n",
      "   ---------------- ----------------------- 0.5/1.3 MB 61.2 kB/s eta 0:00:13\n",
      "   ---------------- ----------------------- 0.5/1.3 MB 61.2 kB/s eta 0:00:13\n",
      "   ---------------- ----------------------- 0.5/1.3 MB 61.2 kB/s eta 0:00:13\n",
      "   ---------------- ----------------------- 0.5/1.3 MB 61.2 kB/s eta 0:00:13\n",
      "   ---------------- ----------------------- 0.5/1.3 MB 61.2 kB/s eta 0:00:13\n",
      "   ---------------- ----------------------- 0.5/1.3 MB 61.2 kB/s eta 0:00:13\n",
      "   ---------------- ----------------------- 0.5/1.3 MB 61.2 kB/s eta 0:00:13\n",
      "   ---------------- ----------------------- 0.5/1.3 MB 61.2 kB/s eta 0:00:13\n",
      "   ---------------- ----------------------- 0.5/1.3 MB 61.2 kB/s eta 0:00:13\n",
      "   ---------------- ----------------------- 0.5/1.3 MB 61.2 kB/s eta 0:00:13\n",
      "   ---------------- ----------------------- 0.5/1.3 MB 61.2 kB/s eta 0:00:13\n",
      "   ---------------- ----------------------- 0.5/1.3 MB 61.2 kB/s eta 0:00:13\n",
      "   ---------------- ----------------------- 0.5/1.3 MB 61.2 kB/s eta 0:00:13\n",
      "   ---------------- ----------------------- 0.5/1.3 MB 61.2 kB/s eta 0:00:13\n",
      "   ---------------- ----------------------- 0.5/1.3 MB 61.2 kB/s eta 0:00:13\n",
      "   ---------------- ----------------------- 0.5/1.3 MB 61.2 kB/s eta 0:00:13\n",
      "   ---------------- ----------------------- 0.5/1.3 MB 61.2 kB/s eta 0:00:13\n",
      "   ---------------- ----------------------- 0.5/1.3 MB 61.2 kB/s eta 0:00:13\n",
      "   ------------------------ --------------- 0.8/1.3 MB 52.8 kB/s eta 0:00:10\n",
      "   ------------------------ --------------- 0.8/1.3 MB 52.8 kB/s eta 0:00:10\n",
      "   ------------------------ --------------- 0.8/1.3 MB 52.8 kB/s eta 0:00:10\n",
      "   ------------------------ --------------- 0.8/1.3 MB 52.8 kB/s eta 0:00:10\n",
      "   ------------------------ --------------- 0.8/1.3 MB 52.8 kB/s eta 0:00:10\n",
      "   ------------------------ --------------- 0.8/1.3 MB 52.8 kB/s eta 0:00:10\n",
      "   ------------------------ --------------- 0.8/1.3 MB 52.8 kB/s eta 0:00:10\n",
      "   ------------------------ --------------- 0.8/1.3 MB 52.8 kB/s eta 0:00:10\n",
      "   ------------------------ --------------- 0.8/1.3 MB 52.8 kB/s eta 0:00:10\n",
      "   ------------------------ --------------- 0.8/1.3 MB 52.8 kB/s eta 0:00:10\n",
      "   ------------------------ --------------- 0.8/1.3 MB 52.8 kB/s eta 0:00:10\n",
      "   ------------------------ --------------- 0.8/1.3 MB 52.8 kB/s eta 0:00:10\n",
      "   ------------------------ --------------- 0.8/1.3 MB 52.8 kB/s eta 0:00:10\n",
      "   ------------------------ --------------- 0.8/1.3 MB 52.8 kB/s eta 0:00:10\n",
      "   ------------------------ --------------- 0.8/1.3 MB 52.8 kB/s eta 0:00:10\n",
      "   ------------------------ --------------- 0.8/1.3 MB 52.8 kB/s eta 0:00:10\n",
      "   ------------------------ --------------- 0.8/1.3 MB 52.8 kB/s eta 0:00:10\n",
      "   ------------------------ --------------- 0.8/1.3 MB 52.8 kB/s eta 0:00:10\n",
      "   ------------------------ --------------- 0.8/1.3 MB 52.8 kB/s eta 0:00:10\n",
      "   ------------------------ --------------- 0.8/1.3 MB 52.8 kB/s eta 0:00:10\n",
      "   ------------------------ --------------- 0.8/1.3 MB 52.8 kB/s eta 0:00:10\n",
      "   ------------------------ --------------- 0.8/1.3 MB 52.8 kB/s eta 0:00:10\n",
      "   ------------------------ --------------- 0.8/1.3 MB 52.8 kB/s eta 0:00:10\n",
      "   ------------------------ --------------- 0.8/1.3 MB 52.8 kB/s eta 0:00:10\n",
      "   ------------------------ --------------- 0.8/1.3 MB 52.8 kB/s eta 0:00:10\n",
      "   ------------------------ --------------- 0.8/1.3 MB 52.8 kB/s eta 0:00:10\n",
      "   ------------------------ --------------- 0.8/1.3 MB 52.8 kB/s eta 0:00:10\n",
      "   -------------------------------- ------- 1.0/1.3 MB 50.3 kB/s eta 0:00:06\n",
      "   -------------------------------- ------- 1.0/1.3 MB 50.3 kB/s eta 0:00:06\n",
      "   -------------------------------- ------- 1.0/1.3 MB 50.3 kB/s eta 0:00:06\n",
      "   -------------------------------- ------- 1.0/1.3 MB 50.3 kB/s eta 0:00:06\n",
      "   -------------------------------- ------- 1.0/1.3 MB 50.3 kB/s eta 0:00:06\n",
      "   -------------------------------- ------- 1.0/1.3 MB 50.3 kB/s eta 0:00:06\n",
      "   -------------------------------- ------- 1.0/1.3 MB 50.3 kB/s eta 0:00:06\n",
      "   -------------------------------- ------- 1.0/1.3 MB 50.3 kB/s eta 0:00:06\n",
      "   -------------------------------- ------- 1.0/1.3 MB 50.3 kB/s eta 0:00:06\n",
      "   -------------------------------- ------- 1.0/1.3 MB 50.3 kB/s eta 0:00:06\n",
      "   ---------------------------------------- 1.3/1.3 MB 58.6 kB/s eta 0:00:00\n",
      "Downloading h11-0.9.0-py2.py3-none-any.whl (53 kB)\n",
      "Downloading hpack-3.0.0-py2.py3-none-any.whl (38 kB)\n",
      "Downloading hyperframe-5.2.0-py2.py3-none-any.whl (12 kB)\n",
      "Building wheels for collected packages: googletrans\n",
      "  Building wheel for googletrans (setup.py): started\n",
      "  Building wheel for googletrans (setup.py): finished with status 'done'\n",
      "  Created wheel for googletrans: filename=googletrans-4.0.0rc1-py3-none-any.whl size=17457 sha256=cb684eab4061722372b5c50c67f391039803b37f5cc5a7f7cba9dc0efe0f4824\n",
      "  Stored in directory: c:\\users\\rohit\\appdata\\local\\pip\\cache\\wheels\\95\\0f\\04\\b17a72024b56a60e499ce1a6313d283ed5ba332407155bee03\n",
      "Successfully built googletrans\n",
      "Installing collected packages: rfc3986, hyperframe, hpack, h11, chardet, idna, hstspreload, h2, httpcore, httpx, googletrans\n",
      "  Attempting uninstall: h11\n",
      "    Found existing installation: h11 0.14.0\n",
      "    Uninstalling h11-0.14.0:\n",
      "      Successfully uninstalled h11-0.14.0\n",
      "  Attempting uninstall: chardet\n",
      "    Found existing installation: chardet 4.0.0\n",
      "    Uninstalling chardet-4.0.0:\n",
      "      Successfully uninstalled chardet-4.0.0\n",
      "  Attempting uninstall: idna\n",
      "    Found existing installation: idna 3.7\n",
      "    Uninstalling idna-3.7:\n",
      "      Successfully uninstalled idna-3.7\n",
      "  Attempting uninstall: httpcore\n",
      "    Found existing installation: httpcore 1.0.2\n",
      "    Uninstalling httpcore-1.0.2:\n",
      "      Successfully uninstalled httpcore-1.0.2\n",
      "  Attempting uninstall: httpx\n",
      "    Found existing installation: httpx 0.27.0\n",
      "    Uninstalling httpx-0.27.0:\n",
      "      Successfully uninstalled httpx-0.27.0\n",
      "Successfully installed chardet-3.0.4 googletrans-4.0.0rc1 h11-0.9.0 h2-3.2.0 hpack-3.0.0 hstspreload-2025.1.1 httpcore-0.9.1 httpx-0.13.3 hyperframe-5.2.0 idna-2.10 rfc3986-1.5.0\n"
     ]
    },
    {
     "name": "stderr",
     "output_type": "stream",
     "text": [
      "ERROR: pip's dependency resolver does not currently take into account all the packages that are installed. This behaviour is the source of the following dependency conflicts.\n",
      "jupyterlab 4.2.5 requires httpx>=0.25.0, but you have httpx 0.13.3 which is incompatible.\n"
     ]
    }
   ],
   "source": [
    "!pip install googletrans==4.0.0-rc1"
   ]
  },
  {
   "cell_type": "code",
   "execution_count": 3,
   "id": "bd07b086-6ac6-4026-a133-cae64f076cc7",
   "metadata": {},
   "outputs": [],
   "source": [
    "from googletrans import Translator"
   ]
  },
  {
   "cell_type": "code",
   "execution_count": 4,
   "id": "807cbb82-559c-4b02-bbb5-8be4302a0743",
   "metadata": {},
   "outputs": [],
   "source": [
    "translator = Translator()"
   ]
  },
  {
   "cell_type": "code",
   "execution_count": 5,
   "id": "d0380d3c-ee6d-458c-bbc6-ed5ea91e396a",
   "metadata": {},
   "outputs": [],
   "source": [
    "text_to_translate = \"Hello, how are you?\""
   ]
  },
  {
   "cell_type": "code",
   "execution_count": 6,
   "id": "db769328-3b1c-4205-a520-596e621c0e39",
   "metadata": {},
   "outputs": [],
   "source": [
    "translated = translator.translate(text_to_translate, src='en', dest='fr')  "
   ]
  },
  {
   "cell_type": "code",
   "execution_count": 8,
   "id": "bd0caeb7-b5e7-405d-8124-5f92e59af249",
   "metadata": {},
   "outputs": [
    {
     "name": "stdout",
     "output_type": "stream",
     "text": [
      "Original Text: Hello, how are you?\n",
      "Translated Text: Bonjour comment allez-vous?\n",
      "Source Language: en\n"
     ]
    }
   ],
   "source": [
    "print(f\"Original Text: {text_to_translate}\")\n",
    "print(f\"Translated Text: {translated.text}\")\n",
    "print(f\"Source Language: {translated.src}\")"
   ]
  }
 ],
 "metadata": {
  "kernelspec": {
   "display_name": "Python 3 (ipykernel)",
   "language": "python",
   "name": "python3"
  },
  "language_info": {
   "codemirror_mode": {
    "name": "ipython",
    "version": 3
   },
   "file_extension": ".py",
   "mimetype": "text/x-python",
   "name": "python",
   "nbconvert_exporter": "python",
   "pygments_lexer": "ipython3",
   "version": "3.12.7"
  }
 },
 "nbformat": 4,
 "nbformat_minor": 5
}
